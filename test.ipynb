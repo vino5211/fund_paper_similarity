{
 "cells": [
  {
   "cell_type": "code",
   "execution_count": null,
   "metadata": {},
   "outputs": [],
   "source": [
    "from openpyxl import load_workbook\n",
    "from openpyxl.compat import range\n",
    "wb = load_workbook('C:\\\\Users\\\\vino\\\\Documents\\\\Tencent Files'\n",
    "                   '\\\\674912850\\\\FileRecv\\\\情报学期刊&会议'\n",
    "                   '\\\\2018年\\\\会议.xlsx')\n",
    "ws1 = wb.active \n",
    "f  = open('C:\\\\Users\\\\vino\\\\Downloads\\\\cnki\\\\download_hy2018.txt','w',encoding='utf-8')\n",
    "\n",
    "for i in range(2,ws1.max_row+1):\n",
    "    for j in range(1,ws1.max_column+1):\n",
    "        f.write(ws1.cell(1,j).value+' '+str(ws1.cell(i,j).value)+'\\n')\n",
    "        \n",
    "    f.write('\\n')\n",
    "f.close()\n"
   ]
  },
  {
   "cell_type": "code",
   "execution_count": null,
   "metadata": {},
   "outputs": [],
   "source": []
  }
 ],
 "metadata": {
  "kernelspec": {
   "display_name": "Python 2",
   "language": "python",
   "name": "python2"
  },
  "language_info": {
   "codemirror_mode": {
    "name": "ipython",
    "version": 2
   },
   "file_extension": ".py",
   "mimetype": "text/x-python",
   "name": "python",
   "nbconvert_exporter": "python",
   "pygments_lexer": "ipython2",
   "version": "2.7.6"
  }
 },
 "nbformat": 4,
 "nbformat_minor": 0
}
