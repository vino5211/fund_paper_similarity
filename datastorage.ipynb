{
 "cells": [
  {
   "cell_type": "heading",
   "metadata": {
    "collapsed": true
   },
   "level": 1,
   "source": [
    "使用pandas，将26个学科的数据存入mongodb"
   ]
  },
  {
   "cell_type": "heading",
   "metadata": {},
   "level": 2,
   "source": [
    "从excel读取数据。"
   ]
  },
  {
   "cell_type": "code",
   "execution_count": 1,
   "metadata": {},
   "outputs": [],
   "source": [
    "import pandas as pd"
   ]
  },
  {
   "cell_type": "markdown",
   "metadata": {},
   "source": [
    "读取excel函数，返回一个包含excel数据的dataframe"
   ]
  },
  {
   "cell_type": "code",
   "execution_count": 2,
   "metadata": {},
   "outputs": [],
   "source": [
    "def read_excel(subject):\n",
    "    file  = 'cnki_fundpaper/'+subject+'_paper.xlsx'\n",
    "    # print(file)\n",
    "    df = pd.read_excel(file)\n",
    "    # print(df.info())\n",
    "    sLength = len(df['基金号'])\n",
    "    df['学科'] = pd.Series(sLength*[ subject])\n",
    "    # print(df[:5])\n",
    "    return df\n"
   ]
  },
  {
   "cell_type": "code",
   "execution_count": 3,
   "metadata": {},
   "outputs": [],
   "source": [
    "subjectList=['党史·党建','马列·科社','民族问题研究','人口学','外国文学','新闻学与传播学','艺术学','体育学','统计学','社会学','中国文学','宗教学','国际问题研究','法学','管理学','图书馆、情报与文献学','教育学','军事学','考古学','应用经济','中国历史','哲学','语言学','理论经济','世界历史','政治学']"
   ]
  },
  {
   "cell_type": "markdown",
   "metadata": {},
   "source": [
    "将所有学科的数据拼接到一个dataframe中"
   ]
  },
  {
   "cell_type": "code",
   "execution_count": 4,
   "metadata": {},
   "outputs": [],
   "source": [
    "\n",
    "df=None\n",
    "for subject in subjectList:\n",
    "    if df is None:\n",
    "        df=read_excel(subject)\n",
    "    else:\n",
    "        df=df.append(read_excel(subject))"
   ]
  },
  {
   "cell_type": "markdown",
   "metadata": {},
   "source": [
    "index重排序"
   ]
  },
  {
   "cell_type": "code",
   "execution_count": 5,
   "metadata": {
    "collapsed": true
   },
   "outputs": [],
   "source": [
    "df=df.reset_index(drop=True)\n",
    "# print(df[:2].to_dict('records'))"
   ]
  },
  {
   "cell_type": "markdown",
   "metadata": {},
   "source": [
    "将dataframe存入mongodb数据库或excel"
   ]
  },
  {
   "cell_type": "code",
   "execution_count": 7,
   "metadata": {},
   "outputs": [
    {
     "data": {
      "text/plain": [
       "<pymongo.results.InsertManyResult at 0x178a76b8608>"
      ]
     },
     "execution_count": 7,
     "metadata": {},
     "output_type": "execute_result"
    }
   ],
   "source": [
    "from pymongo import MongoClient\n",
    "import json\n",
    "myclient = MongoClient('mongodb://localhost:27017/')\n",
    "db = myclient[\"fundpaperdb\"] \n",
    "fundpapercol = db['fundpaper']\n",
    "fundpapercol.insert_many(df.to_dict('records'))\n",
    "\n",
    "\n",
    "# df.to_excel('cnki_fundpaper/世界历史_paper_test.xlsx', sheet_name='Sheet1')\n"
   ]
  },
  {
   "cell_type": "code",
   "execution_count": 8,
   "metadata": {},
   "outputs": [
    {
     "name": "stdout",
     "output_type": "stream",
     "text": [
      "{'_id': ObjectId('5c0e75ab6133d70f502fcff5'), '基金号': '17WDJ001', '基金名称': '百炼成钢——中国共产党应对重大困难与风险的历史经验', '题名': '试析抗战时期陕甘宁边区知识女性的历史贡献', '作者': '张茜', '作者单位': '西北大学', '期刊': '赤峰学院学报(汉文哲学社会科学版)', '发表时间': '2018-03-25', '被引': nan, '下载': 22.0, '摘要': '抗战时期,陕甘宁边区作为中国共产党的政治指导中心和总后方,其颁布的一系列方针政策吸引着大批知识青年和文化人不远万里投奔西安。边区的知识女性在抗战期间发挥所长、努力报国,是文化人群体中的一支重要力量,为推动边区建设发展和争取抗战最终胜利发挥了重要作用。 ', '页数': '4', '关键词': '抗战时期; 陕甘宁边区; 知识女性; 历史贡献;', '基金': '国家社科基金项目“百炼成钢——中国共产党应对重大困难与风险的历史”(17WDJ001)；', '分类号': 'D231', '学科': '党史·党建'}\n"
     ]
    }
   ],
   "source": [
    "x = fundpapercol.find_one()\n",
    " \n",
    "print(x)"
   ]
  },
  {
   "cell_type": "code",
   "execution_count": null,
   "metadata": {},
   "outputs": [],
   "source": []
  }
 ],
 "metadata": {
  "kernelspec": {
   "display_name": "Python 2",
   "language": "python",
   "name": "python2"
  },
  "language_info": {
   "codemirror_mode": {
    "name": "ipython",
    "version": 2
   },
   "file_extension": ".py",
   "mimetype": "text/x-python",
   "name": "python",
   "nbconvert_exporter": "python",
   "pygments_lexer": "ipython2",
   "version": "2.7.6"
  }
 },
 "nbformat": 4,
 "nbformat_minor": 0
}
